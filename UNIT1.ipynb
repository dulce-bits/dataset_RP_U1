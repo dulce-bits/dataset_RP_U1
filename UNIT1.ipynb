{
  "nbformat": 4,
  "nbformat_minor": 0,
  "metadata": {
    "colab": {
      "name": "UNIT1.ipynb",
      "provenance": [],
      "collapsed_sections": [],
      "include_colab_link": true
    },
    "kernelspec": {
      "name": "python3",
      "display_name": "Python 3"
    }
  },
  "cells": [
    {
      "cell_type": "markdown",
      "metadata": {
        "id": "view-in-github",
        "colab_type": "text"
      },
      "source": [
        "<a href=\"https://colab.research.google.com/github/dulce-bits/dataset_RP_U1/blob/master/UNIT1.ipynb\" target=\"_parent\"><img src=\"https://colab.research.google.com/assets/colab-badge.svg\" alt=\"Open In Colab\"/></a>"
      ]
    },
    {
      "cell_type": "markdown",
      "metadata": {
        "id": "U4a0SEdqxBs8",
        "colab_type": "text"
      },
      "source": [
        "# ATTRIBUTES OF THE PERFORMANCE OF CENTRAL PROCESSING UNITS: A RELATIVE PERFORMANCE PREDICTION MODEL\n",
        "\n",
        "La presente práctica utiliza el conjunto de datos Computer Hardware Dataset disponible en el Repositorio de Machine Learning de la UCI (https://archive.ics.uci.edu/ml/datasets/Computer+Hardware). Se pretende que a través de la implementación de el lenguaje Python se utilicen las técnicas de regresión lineal y regresión KNN para encontrar el modelo que se adapte de manera adecuada a los datos del conjunto dado, así como comparar los resultados y concluir cual de los dos modelos se adapta mejor a este conjunto de datos en especifico.\n",
        "\n",
        "Dulce Celeste Cruz Ramirez\n",
        "\n",
        "8vo Semestre ITCG\n",
        "\n",
        "Reconocimiento de patrones"
      ]
    },
    {
      "cell_type": "markdown",
      "metadata": {
        "id": "bZYWn-L0Vb1b",
        "colab_type": "text"
      },
      "source": [
        "# Regresión lineal múltiple\n",
        "Se importan las librerias necesarias\n",
        "Se lee el archivo de datos desde un repositorio en github, se calculan los valores MAVG, CHCAP y SQRPERF que son necesarios para implementar el modelo, y por ultimo se guardan en un nuevo archivo llamado machine_edited.csv por cuestiones prácticas ya que se utilizará el mismo archivo para la regresión KNN."
      ]
    },
    {
      "cell_type": "code",
      "metadata": {
        "id": "-alwNIFKXLys",
        "colab_type": "code",
        "colab": {}
      },
      "source": [
        "import pandas as pd\n",
        "import math\n",
        "from sklearn.model_selection import train_test_split\n",
        "\n",
        "url='https://raw.githubusercontent.com/dulce-bits/dataset_RP_U1/master/machine.csv'\n",
        "\n",
        "df=pd.read_csv(url)\n",
        "\n",
        "def MAVG(df):\n",
        "    mv_lis=[]\n",
        "    for i in range(df.shape[0]):\n",
        "        row = df.iloc[i]\n",
        "        mv_lis.append((row.MMIN+row.MMAX)/2*pow(10,-3))\n",
        "    MAVG=pd.Series(mv_lis)\n",
        "    df=df.assign(MAVG=MAVG.values)\n",
        "    return df\n",
        "\n",
        "def CHCAP(df):\n",
        "    ch_lis=[]\n",
        "    for i in range(df.shape[0]):\n",
        "        row = df.iloc[i]\n",
        "        chavg = math.floor(((row.CHMIN+row.CHMAX)/2)+1)\n",
        "        speed = 1/row.MCYT\n",
        "        ch_lis.append(chavg*speed+10)\n",
        "    CHCAP=pd.Series(ch_lis)\n",
        "    df=df.assign(CHCAP=CHCAP.values)\n",
        "    return df\n",
        "\n",
        "def SQR(df):\n",
        "    sqr_lis=[]\n",
        "    for i in range(df.shape[0]):\n",
        "        row = df.iloc[i]\n",
        "        sqr = math.sqrt(row.ERP)\n",
        "        sqr_lis.append(sqr)\n",
        "    SQRPERF=pd.Series(sqr_lis)\n",
        "    df=df.assign(SQRPERF=SQRPERF.values)\n",
        "    return df\n",
        "\n",
        "df=MAVG(df)\n",
        "df=CHCAP(df)\n",
        "df=SQR(df)\n",
        "\n",
        "df.to_csv('machine_edited.csv',index=False)\n"
      ],
      "execution_count": 0,
      "outputs": []
    },
    {
      "cell_type": "markdown",
      "metadata": {
        "id": "fOeLdxiXaE-G",
        "colab_type": "text"
      },
      "source": [
        "Se separa el dataframe en dos conjuntos; uno de entrenamiento(train) y otro de pruebas(test).\n",
        "Se genera al modelo lineal SQRPERF con base en el artículo de Ein-Dor y Feldmesser (1987) utilizando la libreria statsmodels y el conjunto de entrenamiento. \n",
        "\n",
        "$\\ SQRPERF = A_{0} + A_{1}(MAVG) + A_{2}(CACH)+A_{3}(CHCAP) $\n",
        "\n",
        "Que equivale al modelo lineal:\n",
        "\n",
        "$\\ Y = B_{0} + B_{1}(X_{1}) + B_{2}(X_{2})+B_{3}(X_{3}) $\n",
        "\n"
      ]
    },
    {
      "cell_type": "code",
      "metadata": {
        "id": "dE-vNYoGgbAl",
        "colab_type": "code",
        "outputId": "b86a7a83-45ad-4908-9b35-5537ab112b6b",
        "colab": {
          "base_uri": "https://localhost:8080/",
          "height": 510
        }
      },
      "source": [
        "import pandas as pd\n",
        "from sklearn.model_selection import train_test_split\n",
        "\n",
        "url='https://raw.githubusercontent.com/dulce-bits/dataset_RP_U1/master/machine_edited.csv'\n",
        "\n",
        "df=pd.read_csv(url)\n",
        "\n",
        "train,test=train_test_split(df,test_size=0.5,train_size=0.5)\n",
        "\n",
        "import statsmodels.formula.api as smfrmla\n",
        "model = smfrmla.ols(\"SQRPERF ~ MAVG + CACH + CHCAP\",train).fit()\n",
        "print(model.summary())"
      ],
      "execution_count": 0,
      "outputs": [
        {
          "output_type": "stream",
          "text": [
            "                            OLS Regression Results                            \n",
            "==============================================================================\n",
            "Dep. Variable:                SQRPERF   R-squared:                       1.000\n",
            "Model:                            OLS   Adj. R-squared:                  1.000\n",
            "Method:                 Least Squares   F-statistic:                 1.926e+06\n",
            "Date:                Mon, 20 May 2019   Prob (F-statistic):          6.47e-238\n",
            "Time:                        04:18:04   Log-Likelihood:                 242.69\n",
            "No. Observations:                 104   AIC:                            -477.4\n",
            "Df Residuals:                     100   BIC:                            -466.8\n",
            "Df Model:                           3                                         \n",
            "Covariance Type:            nonrobust                                         \n",
            "==============================================================================\n",
            "                 coef    std err          t      P>|t|      [0.025      0.975]\n",
            "------------------------------------------------------------------------------\n",
            "Intercept    -15.2639      0.077   -197.371      0.000     -15.417     -15.110\n",
            "MAVG           0.4897      0.000    991.657      0.000       0.489       0.491\n",
            "CACH           0.0300   6.08e-05    492.894      0.000       0.030       0.030\n",
            "CHCAP          1.9045      0.008    242.745      0.000       1.889       1.920\n",
            "==============================================================================\n",
            "Omnibus:                        3.744   Durbin-Watson:                   2.046\n",
            "Prob(Omnibus):                  0.154   Jarque-Bera (JB):                2.588\n",
            "Skew:                          -0.215   Prob(JB):                        0.274\n",
            "Kurtosis:                       2.358   Cond. No.                     1.89e+03\n",
            "==============================================================================\n",
            "\n",
            "Warnings:\n",
            "[1] Standard Errors assume that the covariance matrix of the errors is correctly specified.\n",
            "[2] The condition number is large, 1.89e+03. This might indicate that there are\n",
            "strong multicollinearity or other numerical problems.\n"
          ],
          "name": "stdout"
        }
      ]
    },
    {
      "cell_type": "markdown",
      "metadata": {
        "id": "3N28G_eeDZQE",
        "colab_type": "text"
      },
      "source": [
        "Como resultado podemos ver el summary del modelo de regresión lineal múltiple que acabamos de crear, a continuación describo la interpretación de los puntos más relevantes de éste:\n",
        "\n",
        "\n",
        "1.   En la columna de coeficiente podemos ver los valores estimados para $\\ B_{0} , B_{1}, B_{2} $ y $\\ B_{3}$ en orden descendente respectivamente, de acuerdo al articulo de Eindor y Feldmesser (1987) los valores de estos deberían ser 3.78, 0.49, 0.3 y 0.19 respectivamente. Se puede observar que para $ \\ B_{0}$ y $ \\ B_{1}$ los valores estimados entran en el rango estimado por el modelo, mientras que los demás no entran en el rango estimado.\n",
        "2.   De acuerdo al resutado de la F-statistic para probar $\\ H_{0} $vs $\\ H_{a} $. Cuando no hay relación entre la respuesta y los predictores se espera que el valor de el F-statistic tome un valor cercano a 1, por otro lado, cuando $ \\ H_{a}$ se espera que su valor sea mayor a 1. En este caso se puede apreciar que el F-statistic toma un valor de 1132000 aproximado, con el cual se puede descartar $\\ H_{0}$ y sugiere que al menos uno de los predictores es relevante para estimar SQRPERF\n",
        "3. De acuerdo al rango estimado y con un 95% de intervalo de confianza, el error estándar estimado tiene un valor bajo en todos los coeficientes, por lo que esto brinda fuerte evidencia para descartar $\\ H_{0}$.\n",
        "4. La prueba t mide el número de desviaciones estándar del que los coeficientes $\\ B_{1}, B_{2} $ y $\\ B_{3}$ son distantes de 0, si realmente no hay relación entre X (MAVG, CACH y CHCAP) y Y (SQRPERF) entonces se esperaria que la prueba t tuviera una distribucion-t con n-2 grados de libertad. Dado que los coeficientes son bastante grandes comparados con sus errores estandar, entonces las pruebas t son tambien grandes, por lo que las probabilidades de ver tales valores si $\\ H_{0}$ es verdadera son cero, por lo que se puede concluir que $\\ B_{1} \\neq 0$, $\\ B_{2} \\neq 0$ y $\\ B_{3} \\neq 0$.\n",
        "\n"
      ]
    },
    {
      "cell_type": "markdown",
      "metadata": {
        "id": "C2dG5uHOXTbd",
        "colab_type": "text"
      },
      "source": [
        "A continuación esta el código para graficar los resultados obtenidos respecto al conjunto de entrenamiento, los puntos rojos son las instancias originales SQRPERF y la linea azul es el obtenido por el modelo de regresión lineal múltiple."
      ]
    },
    {
      "cell_type": "code",
      "metadata": {
        "id": "UsU49YC1Xxg5",
        "colab_type": "code",
        "outputId": "a1466700-feed-4a54-8309-413520d771f5",
        "colab": {
          "base_uri": "https://localhost:8080/",
          "height": 376
        }
      },
      "source": [
        "import pandas as pd\n",
        "from sklearn.model_selection import train_test_split\n",
        "\n",
        "url='https://raw.githubusercontent.com/dulce-bits/dataset_RP_U1/master/machine_edited.csv'\n",
        "\n",
        "df=pd.read_csv(url)\n",
        "\n",
        "train,test=train_test_split(df,test_size=0.5,train_size=0.5)\n",
        "\n",
        "import statsmodels.formula.api as smfrmla\n",
        "model = smfrmla.ols(\"SQRPERF ~ MAVG + CACH + CHCAP\",train).fit()\n",
        "\n",
        "x_train = train[['MAVG','CACH','CHCAP']]\n",
        "y_train = train['SQRPERF']\n",
        "f_train = model.predict(x_train)\n",
        "\n",
        "import matplotlib.pyplot as plt\n",
        "plt.figure(1, figsize=(8, 6))\n",
        "plt.clf()\n",
        "plt.subplot(3,1,1)\n",
        "plt.scatter(y_train,x_train[['MAVG']], color='r')\n",
        "plt.plot(y_train, f_train, color='b')\n",
        "plt.title('Training set')\n",
        "plt.ylabel('MAVG')\n",
        "\n",
        "plt.subplot(3,1,2)\n",
        "plt.scatter(y_train,x_train[['CACH']], color='r')\n",
        "plt.plot(y_train, f_train, color='b')\n",
        "plt.ylabel('CACH')\n",
        "plt.xlabel('SQRPERF')\n",
        "\n",
        "plt.subplot(3,1,3)\n",
        "plt.scatter(y_train,x_train[['CHCAP']], color='r')\n",
        "plt.plot(y_train, f_train, color='b')\n",
        "plt.ylabel('CHCAP')\n",
        "plt.xlabel('SQRPERF')\n",
        "\n",
        "plt.show()"
      ],
      "execution_count": 0,
      "outputs": [
        {
          "output_type": "display_data",
          "data": {
            "image/png": "[encoded data removed]",
            "text/plain": [
              "<Figure size 576x396 with 3 Axes>"
            ]
          },
          "metadata": {
            "tags": []
          }
        }
      ]
    },
    {
      "cell_type": "markdown",
      "metadata": {
        "id": "upLmpN0fYQXH",
        "colab_type": "text"
      },
      "source": [
        "A continuación esta el código para graficar los resultados obtenidos respecto al conjunto de pruebas, los puntos rojos son las instancias originales SQRPERF y la linea azul es el obtenido por el modelo de regresión lineal múltiple."
      ]
    },
    {
      "cell_type": "code",
      "metadata": {
        "id": "GmzLpUIyYUcT",
        "colab_type": "code",
        "outputId": "168baf73-adf2-4b30-aa10-6e6e92ba1031",
        "colab": {
          "base_uri": "https://localhost:8080/",
          "height": 2191
        }
      },
      "source": [
        "import pandas as pd\n",
        "from sklearn.model_selection import train_test_split\n",
        "\n",
        "url='https://raw.githubusercontent.com/dulce-bits/dataset_RP_U1/master/machine_edited.csv'\n",
        "\n",
        "df=pd.read_csv(url)\n",
        "\n",
        "train,test=train_test_split(df,test_size=0.5,train_size=0.5)\n",
        "\n",
        "import statsmodels.formula.api as smfrmla\n",
        "model = smfrmla.ols(\"SQRPERF ~ MAVG + CACH + CHCAP\",train).fit()\n",
        "\n",
        "x_test = test[['MAVG','CACH','CHCAP']]\n",
        "y_test = test['SQRPERF']\n",
        "f_test = model.predict(x_test)\n",
        "\n",
        "print('Test set results')\n",
        "for i in range(y_test.shape[0]):\n",
        "    pre = f_test.iloc[i]\n",
        "    act = y_test.iloc[i]\n",
        "    print('> predicted= '+ str(pre) + ', actual= '+ str(act))\n",
        "\n",
        "import matplotlib.pyplot as plt\n",
        "\n",
        "plt.figure(1, figsize=(8, 6))\n",
        "plt.clf()\n",
        "plt.subplot(3,1,1)\n",
        "plt.scatter(y_test,x_test[['MAVG']], color='r')\n",
        "plt.plot(y_test, f_test, color='b')\n",
        "plt.title('Test set')\n",
        "plt.ylabel('MAVG')\n",
        "\n",
        "plt.subplot(3,1,2)\n",
        "plt.scatter(y_test,x_test[['CACH']], color='r')\n",
        "plt.plot(y_test, f_test, color='b')\n",
        "plt.ylabel('CACH')\n",
        "\n",
        "plt.subplot(3,1,3)\n",
        "plt.scatter(y_test,x_test[['CHCAP']], color='r')\n",
        "plt.plot(y_test, f_test, color='b')\n",
        "plt.ylabel('CHCAP')\n",
        "\n",
        "plt.show()"
      ],
      "execution_count": 0,
      "outputs": [
        {
          "output_type": "stream",
          "text": [
            "Test set results\n",
            "> predicted= 24.545122008782588, actual= 24.556058315617353\n",
            "> predicted= 6.485604820755928, actual= 6.4807406984078595\n",
            "> predicted= 5.110820869390652, actual= 5.0990195135927845\n",
            "> predicted= 6.8369920591860005, actual= 6.855654600401044\n",
            "> predicted= 13.224872803821585, actual= 13.228756555322953\n",
            "> predicted= 5.462964736197494, actual= 5.47722557505166\n",
            "> predicted= 13.455893264793035, actual= 13.45362404707371\n",
            "> predicted= 8.069486024156284, actual= 8.06225774829855\n",
            "> predicted= 5.3253110142622155, actual= 5.291502622129181\n",
            "> predicted= 4.782423033474593, actual= 4.795831523312719\n",
            "> predicted= 4.337519172010467, actual= 4.358898943540674\n",
            "> predicted= 5.810402699689153, actual= 5.830951894845301\n",
            "> predicted= 15.916277970306238, actual= 15.905973720586864\n",
            "> predicted= 8.352238861037614, actual= 8.366600265340756\n",
            "> predicted= 4.855260673590532, actual= 4.898979485566356\n",
            "> predicted= 5.402540190042945, actual= 5.385164807134505\n",
            "> predicted= 5.6454526126658156, actual= 5.656854249492381\n",
            "> predicted= 6.416212724021076, actual= 6.4031242374328485\n",
            "> predicted= 4.538144390217024, actual= 4.58257569495584\n",
            "> predicted= 7.715521430154672, actual= 7.681145747868607\n",
            "> predicted= 8.1565980408231, actual= 8.18535277187245\n",
            "> predicted= 9.27312879401164, actual= 9.273618495495704\n",
            "> predicted= 7.475629490214283, actual= 7.483314773547883\n",
            "> predicted= 4.903612178978143, actual= 4.898979485566356\n",
            "> predicted= 4.274755155839225, actual= 4.242640687119285\n",
            "> predicted= 9.365397370569713, actual= 9.38083151964686\n",
            "> predicted= 8.611113806118695, actual= 8.602325267042627\n",
            "> predicted= 7.060092778399715, actual= 7.071067811865476\n",
            "> predicted= 5.434426914548078, actual= 5.47722557505166\n",
            "> predicted= 9.043103247837573, actual= 9.055385138137416\n",
            "> predicted= 11.928319009511736, actual= 11.916375287812984\n",
            "> predicted= 5.535680145263045, actual= 5.5677643628300215\n",
            "> predicted= 8.981068202519493, actual= 9.0\n",
            "> predicted= 8.63844296813354, actual= 8.602325267042627\n",
            "> predicted= 31.28097840477796, actual= 31.272991542223775\n",
            "> predicted= 9.365397370569713, actual= 9.38083151964686\n",
            "> predicted= 5.926214133382228, actual= 5.916079783099617\n",
            "> predicted= 4.4587913832906025, actual= 4.47213595499958\n",
            "> predicted= 5.527227201333844, actual= 5.47722557505166\n",
            "> predicted= 6.565056710575316, actual= 6.5574385243019995\n",
            "> predicted= 7.886208495937627, actual= 7.874007874011811\n",
            "> predicted= 10.62788128903264, actual= 10.63014581273465\n",
            "> predicted= 4.489720887474007, actual= 4.47213595499958\n",
            "> predicted= 6.728869137267143, actual= 6.708203932499369\n",
            "> predicted= 8.667886926477241, actual= 8.660254037844387\n",
            "> predicted= 5.375488743882299, actual= 5.385164807134505\n",
            "> predicted= 4.91651049742039, actual= 4.898979485566356\n",
            "> predicted= 18.701793949089403, actual= 18.708286933869708\n",
            "> predicted= 13.475638240009935, actual= 13.490737563232043\n",
            "> predicted= 3.8297501104514, actual= 3.8729833462074175\n",
            "> predicted= 15.07023802613717, actual= 15.066519173319366\n",
            "> predicted= 4.460982165558637, actual= 4.47213595499958\n",
            "> predicted= 7.386394785432506, actual= 7.3484692283495345\n",
            "> predicted= 4.7648530329506915, actual= 4.795831523312719\n",
            "> predicted= 7.078909704954537, actual= 7.071067811865476\n",
            "> predicted= 4.4599011874658565, actual= 4.47213595499958\n",
            "> predicted= 5.810402699689153, actual= 5.830951894845301\n",
            "> predicted= 5.037655588072344, actual= 5.0\n",
            "> predicted= 13.455893264793035, actual= 13.45362404707371\n",
            "> predicted= 4.328817371959364, actual= 4.358898943540674\n",
            "> predicted= 16.34897127233155, actual= 16.340134638368188\n",
            "> predicted= 6.366339483329007, actual= 6.4031242374328485\n",
            "> predicted= 8.005532887644868, actual= 8.0\n",
            "> predicted= 11.66490747278252, actual= 11.6619037896906\n",
            "> predicted= 10.921285997197753, actual= 10.908712114635714\n",
            "> predicted= 10.038294460771356, actual= 10.04987562112089\n",
            "> predicted= 5.129552898303601, actual= 5.0990195135927845\n",
            "> predicted= 10.83567253224951, actual= 10.816653826391967\n",
            "> predicted= 6.0081401621335715, actual= 6.0\n",
            "> predicted= 8.619417753700601, actual= 8.602325267042627\n",
            "> predicted= 5.949794231976483, actual= 5.916079783099617\n",
            "> predicted= 11.125983176758318, actual= 11.135528725660043\n",
            "> predicted= 7.2816692831018255, actual= 7.280109889280517\n",
            "> predicted= 5.458638116896484, actual= 5.47722557505166\n",
            "> predicted= 4.714825484010479, actual= 4.69041575982343\n",
            "> predicted= 4.6663252141855, actual= 4.69041575982343\n",
            "> predicted= 19.53839286574764, actual= 19.54482028569207\n",
            "> predicted= 6.414424095825778, actual= 6.4031242374328485\n",
            "> predicted= 6.516734282898133, actual= 6.4807406984078595\n",
            "> predicted= 9.781293230468966, actual= 9.746794344808963\n",
            "> predicted= 9.080019154075572, actual= 9.055385138137416\n",
            "> predicted= 5.036070153536269, actual= 5.0\n",
            "> predicted= 6.436416985671659, actual= 6.4031242374328485\n",
            "> predicted= 8.185914827509364, actual= 8.18535277187245\n",
            "> predicted= 6.442322707187973, actual= 6.4031242374328485\n",
            "> predicted= 6.75861554839263, actual= 6.782329983125267\n",
            "> predicted= 6.89017707262871, actual= 6.855654600401044\n",
            "> predicted= 7.487221563889243, actual= 7.483314773547883\n",
            "> predicted= 6.8280158039325425, actual= 6.855654600401044\n",
            "> predicted= 5.157242650222269, actual= 5.0990195135927845\n",
            "> predicted= 27.365773161540456, actual= 27.367864366808014\n",
            "> predicted= 4.91651049742039, actual= 4.898979485566356\n",
            "> predicted= 16.595451783203682, actual= 16.583123951777\n",
            "> predicted= 5.324102671977826, actual= 5.291502622129181\n",
            "> predicted= 10.115071422466356, actual= 10.099504938362076\n",
            "> predicted= 4.922852235564701, actual= 4.898979485566356\n",
            "> predicted= 6.156931635071066, actual= 6.164414002968977\n",
            "> predicted= 6.237467100411809, actual= 6.2449979983983965\n",
            "> predicted= 7.2816692831018255, actual= 7.280109889280517\n",
            "> predicted= 6.068744675851413, actual= 6.0827625302982185\n",
            "> predicted= 4.2137920879711785, actual= 4.242640687119285\n",
            "> predicted= 4.295892100586215, actual= 4.242640687119285\n",
            "> predicted= 5.396376485682195, actual= 5.385164807134505\n",
            "> predicted= 8.551987126421976, actual= 8.54400374531753\n",
            "> predicted= 8.63844296813354, actual= 8.602325267042627\n"
          ],
          "name": "stdout"
        },
        {
          "output_type": "display_data",
          "data": {
            "image/png": "[encoded data removed]",
            "text/plain": [
              "<Figure size 576x432 with 3 Axes>"
            ]
          },
          "metadata": {
            "tags": []
          }
        }
      ]
    },
    {
      "cell_type": "markdown",
      "metadata": {
        "id": "de5V76zTFSzS",
        "colab_type": "text"
      },
      "source": [
        "# Regresión KNN\n",
        "\n",
        "El método de regresión KNN es uno de los métodos no parámetricos más simples y populares en problemas de regresión. Es muy similar al método KNN para clasificación, con algunas diferencias al tomar la decisión, ya que de la manera convencional la predicción se calcula en base a los votos de los vecinos más pŕoximos dados un valor K, y el resultado es un valor cualitativo (una clase o categoria), en problemas de regresión se calcula de la siguiente manera, teniendo como resultado un valor cuantitativo:\n",
        "\n",
        "$\\ Predicción = \\dfrac {Vecino0_{SQRPERF} +  . . .  + VecinoK_{SQRPERF}}{K}$"
      ]
    },
    {
      "cell_type": "markdown",
      "metadata": {
        "id": "14C1m3jxbs82",
        "colab_type": "text"
      },
      "source": [
        "A continuación se presenta la implementación de regresión KNN para un valor de K=3 para el conjunto de datos Computer Hardware"
      ]
    },
    {
      "cell_type": "code",
      "metadata": {
        "id": "lFJRw1ubIm5X",
        "colab_type": "code",
        "outputId": "e76d7844-e8b7-4107-ff10-3e38629bada2",
        "colab": {
          "base_uri": "https://localhost:8080/",
          "height": 2120
        }
      },
      "source": [
        "import pandas as pd\n",
        "import random\n",
        "\n",
        "def load_and_split_dataset(filename, approx_training_perc = 0.6):\n",
        "    # lee el conjunto de datos Iris en un dataframe\n",
        "    df = pd.read_csv(filename, header=None)\n",
        "    # convierte el dataframe en una lista de listas\n",
        "    l = df.values.tolist()\n",
        "    # separa, aleatoriamente, un conjunto de instancias como el conjunto entrenamiento\n",
        "    # y el resto, será un conjunto de pruebas\n",
        "    training_set = []\n",
        "    test_set = []\n",
        "    for instance in l:\n",
        "        if random.random() < approx_training_perc:\n",
        "            training_set.append(instance)\n",
        "        else:\n",
        "            test_set.append(instance)\n",
        "    return (training_set, test_set)\n",
        "\n",
        "# funcion que calcula la distancia euclidiana entre dos instancias\n",
        "import math\n",
        "def euclidian_distance(instance1, instance2):\n",
        "    dist = 0\n",
        "    features=[5,10,11]\n",
        "    for x in features:\n",
        "        dist += pow((instance1[x] - instance2[x]), 2)\n",
        "    return math.sqrt(dist)\n",
        "\n",
        "# obtiene los K vecinos mas cercanos\n",
        "def get_neighbors(training_set, test_instance, k):\n",
        "    distances = []\n",
        "    for training_instance in training_set:\n",
        "        dist = euclidian_distance(test_instance, training_instance)\n",
        "        distances.append((dist, training_instance))\n",
        "    distances.sort()\n",
        "    neighbors = []\n",
        "    for i in range(k):\n",
        "        neighbors.append(distances[i][1])\n",
        "    return neighbors\n",
        "\n",
        "# toma la decision con base al vecindario\n",
        "import operator\n",
        "def take_decision(neighbors):\n",
        "    total=0\n",
        "    for neighbor in neighbors:\n",
        "        total+=neighbor[-1]\n",
        "    return total/len(neighbors)\n",
        "\n",
        "def get_accuracy(test_set, predictions):\n",
        "    from scipy.stats import sem\n",
        "    res = sem([[test_set],[predictions]])\n",
        "    return res[0][0]\n",
        "\n",
        "\n",
        "url='https://raw.githubusercontent.com/dulce-bits/dataset_RP_U1/master/machine_edited2.csv'\n",
        "# lee conjunto de datos \n",
        "(training_set, test_set) = load_and_split_dataset(url, .5)\n",
        "\n",
        "\n",
        "# genera predicciones\n",
        "predictions=[]\n",
        "k = 3\n",
        "for instance in test_set:\n",
        "    neighbors = get_neighbors(training_set, instance, k)\n",
        "    result = take_decision(neighbors)\n",
        "    predictions.append(result)\n",
        "    print('> predicted=' + str(result) + ', actual=' + str(instance[-1]))\n",
        "\n",
        "import matplotlib.pyplot as plt\n",
        "plt.figure(1, figsize=(8, 6)) # una figura con tamaño de 8 x 6\n",
        "plt.clf() # clear figure\n",
        "\n",
        "labels=['vendor','model','MCYT','MMIN','MMAX','CACH','CHMIN','CHMAX','PRP','ERP','MAVG','CHCAP','SQRPERF']\n",
        "test = pd.DataFrame(test_set, columns=labels)\n",
        "x_test = test[['MAVG','CACH','CHCAP']]\n",
        "y_test = test['SQRPERF']\n",
        "f_test = pd.Series(predictions)\n",
        "\n",
        "plt.subplot(3,1,1)\n",
        "plt.scatter(y_test, x_test[['MAVG']], color='r')\n",
        "plt.plot(f_test,x_test[['MAVG']],'*')\n",
        "plt.ylabel('MAVG')\n",
        "plt.title('KNN regression')\n",
        "\n",
        "plt.subplot(3,1,2)\n",
        "plt.scatter(y_test, x_test[['CACH']], color='r')\n",
        "plt.plot(f_test, x_test[['CACH']],'*')\n",
        "plt.ylabel('CACH')\n",
        "\n",
        "plt.subplot(3,1,3)\n",
        "plt.scatter(y_test, x_test[['CHCAP']], color='r')\n",
        "plt.plot(f_test, x_test[['CHCAP']],'*')\n",
        "plt.ylabel('CHCAP')\n",
        "plt.xlabel('SQRPERF')\n",
        "\n",
        "plt.show()"
      ],
      "execution_count": 0,
      "outputs": [
        {
          "output_type": "stream",
          "text": [
            "> predicted=12.666029426087443, actual=14.106735979665885\n",
            "> predicted=14.271073938244761, actual=15.905973720586864\n",
            "> predicted=14.271073938244761, actual=15.905973720586864\n",
            "> predicted=17.389783341650368, actual=19.519221295943137\n",
            "> predicted=17.389783341650368, actual=19.519221295943137\n",
            "> predicted=17.389783341650368, actual=27.367864366808014\n",
            "> predicted=27.04427487012136, actual=35.18522417151837\n",
            "> predicted=5.026979298515132, actual=4.898979485566356\n",
            "> predicted=4.202795666618743, actual=3.8729833462074175\n",
            "> predicted=4.508949201651666, actual=4.69041575982343\n",
            "> predicted=6.079423248493426, actual=5.916079783099617\n",
            "> predicted=6.291242997698602, actual=6.2449979983983965\n",
            "> predicted=5.0269792985151325, actual=5.196152422706632\n",
            "> predicted=13.59328464990473, actual=10.099504938362076\n",
            "> predicted=8.830289695680316, actual=8.602325267042627\n",
            "> predicted=11.841557048330431, actual=11.6619037896906\n",
            "> predicted=5.475194148891074, actual=5.385164807134505\n",
            "> predicted=5.475194148891074, actual=5.47722557505166\n",
            "> predicted=8.275824920076253, actual=8.602325267042627\n",
            "> predicted=8.275824920076253, actual=8.602325267042627\n",
            "> predicted=4.760692935482956, actual=4.242640687119285\n",
            "> predicted=5.2585623142854905, actual=6.0\n",
            "> predicted=6.079423248493426, actual=5.830951894845301\n",
            "> predicted=8.087790136309259, actual=8.48528137423857\n",
            "> predicted=6.163360126977732, actual=6.0\n",
            "> predicted=6.079423248493426, actual=5.830951894845301\n",
            "> predicted=6.079423248493426, actual=5.830951894845301\n",
            "> predicted=6.079423248493426, actual=5.830951894845301\n",
            "> predicted=6.079423248493426, actual=5.830951894845301\n",
            "> predicted=4.202795666618743, actual=4.358898943540674\n",
            "> predicted=8.965344490000602, actual=8.660254037844387\n",
            "> predicted=10.705061803094628, actual=10.63014581273465\n",
            "> predicted=13.59328464990473, actual=12.529964086141668\n",
            "> predicted=5.09471476423362, actual=5.291502622129181\n",
            "> predicted=5.597460991717475, actual=5.744562646538029\n",
            "> predicted=6.6332495807108, actual=6.855654600401044\n",
            "> predicted=5.026979298515132, actual=5.0\n",
            "> predicted=7.366894262694539, actual=7.211102550927977\n",
            "> predicted=5.225555809754562, actual=5.196152422706632\n",
            "> predicted=4.689607659363996, actual=4.242640687119285\n",
            "> predicted=7.366894262694539, actual=7.280109889280517\n",
            "> predicted=4.830214177397265, actual=4.795831523312719\n",
            "> predicted=4.508949201651666, actual=4.47213595499958\n",
            "> predicted=5.09471476423362, actual=5.0\n",
            "> predicted=5.291502622129181, actual=5.291502622129181\n",
            "> predicted=5.35341027310334, actual=5.385164807134505\n",
            "> predicted=13.478332450872037, actual=13.228756555322953\n",
            "> predicted=5.597460991717475, actual=5.656854249492381\n",
            "> predicted=17.389783341650368, actual=19.0\n",
            "> predicted=4.202795666618743, actual=3.8729833462074175\n",
            "> predicted=4.508949201651666, actual=4.58257569495584\n",
            "> predicted=4.357891861886513, actual=4.242640687119285\n",
            "> predicted=4.47213595499958, actual=4.47213595499958\n",
            "> predicted=6.291242997698602, actual=6.708203932499369\n",
            "> predicted=4.357891861886513, actual=4.242640687119285\n",
            "> predicted=5.291502622129181, actual=5.291502622129181\n",
            "> predicted=5.597460991717475, actual=5.5677643628300215\n",
            "> predicted=6.6332495807108, actual=6.4807406984078595\n",
            "> predicted=8.087790136309259, actual=8.717797887081348\n",
            "> predicted=8.275824920076253, actual=10.04987562112089\n",
            "> predicted=9.012847308275633, actual=9.055385138137416\n",
            "> predicted=9.012847308275633, actual=6.782329983125267\n",
            "> predicted=9.012847308275633, actual=6.782329983125267\n",
            "> predicted=9.012847308275633, actual=9.38083151964686\n",
            "> predicted=6.631277941036967, actual=6.782329983125267\n",
            "> predicted=7.228532974984103, actual=7.280109889280517\n",
            "> predicted=5.820529982529147, actual=6.4031242374328485\n",
            "> predicted=8.087790136309259, actual=9.273618495495704\n",
            "> predicted=10.705061803094628, actual=10.816653826391967\n",
            "> predicted=10.705061803094628, actual=10.908712114635714\n",
            "> predicted=6.631277941036967, actual=6.92820323027551\n",
            "> predicted=11.242401797195589, actual=11.224972160321824\n",
            "> predicted=20.305772255425975, actual=20.639767440550294\n",
            "> predicted=12.666029426087443, actual=24.556058315617353\n",
            "> predicted=4.357891861886513, actual=4.358898943540674\n",
            "> predicted=4.508949201651666, actual=4.58257569495584\n",
            "> predicted=5.09471476423362, actual=5.0990195135927845\n",
            "> predicted=6.079423248493426, actual=5.916079783099617\n",
            "> predicted=6.291242997698602, actual=6.4031242374328485\n",
            "> predicted=6.291242997698602, actual=6.855654600401044\n",
            "> predicted=11.615933935705769, actual=11.916375287812984\n",
            "> predicted=13.59328464990473, actual=13.784048752090223\n",
            "> predicted=5.09471476423362, actual=5.0\n",
            "> predicted=4.93265299037757, actual=4.898979485566356\n",
            "> predicted=4.9854400919089565, actual=5.0\n",
            "> predicted=5.445497520003621, actual=5.385164807134505\n",
            "> predicted=7.228532974984103, actual=7.280109889280517\n",
            "> predicted=4.760692935482956, actual=4.358898943540674\n",
            "> predicted=6.318086335269825, actual=6.4031242374328485\n",
            "> predicted=8.275824920076253, actual=8.18535277187245\n",
            "> predicted=11.615933935705769, actual=12.206555615733702\n",
            "> predicted=16.360439264607752, actual=16.583123951777\n",
            "> predicted=7.228532974984103, actual=7.483314773547883\n",
            "> predicted=11.5272652303971, actual=13.490737563232043\n",
            "> predicted=19.986446002167458, actual=18.466185312619384\n",
            "> predicted=27.04427487012136, actual=18.973665961010283\n",
            "> predicted=4.86459683148181, actual=4.898979485566356\n",
            "> predicted=4.93265299037757, actual=4.898979485566356\n",
            "> predicted=4.93265299037757, actual=4.898979485566356\n",
            "> predicted=7.2285329749841045, actual=7.071067811865476\n",
            "> predicted=6.291242997698602, actual=6.4031242374328485\n"
          ],
          "name": "stdout"
        },
        {
          "output_type": "display_data",
          "data": {
            "image/png": "[encoded data removed]",
            "text/plain": [
              "<Figure size 576x432 with 3 Axes>"
            ]
          },
          "metadata": {
            "tags": []
          }
        }
      ]
    },
    {
      "cell_type": "markdown",
      "metadata": {
        "id": "fgkdyz-9cf-L",
        "colab_type": "text"
      },
      "source": [
        "Se puede observar que el modelo se adapta de una manera aceptable al conjunto de pruebas, con un error bastante bajo entre la predicción y el valor real, con excepción de algunos outliers, dado que los vecinos de estos son muy lejanos el error en la estimación aumenta."
      ]
    },
    {
      "cell_type": "markdown",
      "metadata": {
        "id": "MU3JgNuDetMi",
        "colab_type": "text"
      },
      "source": [
        "# Conclusiones\n",
        "En conclusión, ambos modelos se adaptan de una manera eficiente al conjunto de datos, cada uno con sus pros y sus contras. Para la regresión lineal multiple, al ser una función de cuatro dimesiones, no se adapta a los datos en todos lo ejes de este. Y en la regresión KNN, depende mucho de sus vecinos, si estos son muy lejanos la predicción es menos confiable, e igual que en la regresión lineal multiple, se presentan dificultades debido a que es un problema multidimensional. Al comparar los resultados se concluye que la regresión lineal múltiple es el mejor approach para este conjunto de datos, tanto porque sus estimaciones parecen ser más próxima s las reales, como por su simplicidad dado que el modelo resultante es una función lineal."
      ]
    }
  ]
}